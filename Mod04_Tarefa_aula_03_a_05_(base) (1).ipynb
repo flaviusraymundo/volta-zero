{
  "metadata": {
    "kernelspec": {
      "name": "python",
      "display_name": "Python (Pyodide)",
      "language": "python"
    },
    "language_info": {
      "codemirror_mode": {
        "name": "python",
        "version": 3
      },
      "file_extension": ".py",
      "mimetype": "text/x-python",
      "name": "python",
      "nbconvert_exporter": "python",
      "pygments_lexer": "ipython3",
      "version": "3.8"
    },
    "toc": {
      "base_numbering": 1,
      "nav_menu": {},
      "number_sections": false,
      "sideBar": true,
      "skip_h1_title": true,
      "title_cell": "Índice",
      "title_sidebar": "Conteúdo",
      "toc_cell": false,
      "toc_position": {},
      "toc_section_display": true,
      "toc_window_display": false
    },
    "varInspector": {
      "cols": {
        "lenName": 16,
        "lenType": 16,
        "lenVar": 40
      },
      "kernels_config": {
        "python": {
          "delete_cmd_postfix": "",
          "delete_cmd_prefix": "del ",
          "library": "var_list.py",
          "varRefreshCmd": "print(var_dic_list())"
        },
        "r": {
          "delete_cmd_postfix": ") ",
          "delete_cmd_prefix": "rm(",
          "library": "var_list.r",
          "varRefreshCmd": "cat(var_dic_list()) "
        }
      },
      "types_to_exclude": [
        "module",
        "function",
        "builtin_function_or_method",
        "instance",
        "_Feature"
      ],
      "window_display": false
    },
    "colab": {
      "provenance": []
    }
  },
  "nbformat_minor": 4,
  "nbformat": 4,
  "cells": [
    {
      "cell_type": "markdown",
      "source": "## Exercício 1: Vestibular\n\nConsidere que a os dados gerados na célula abaixo contêm o número de acertos de 100 alunos em um vestibular para um curso de exatas, divididas pelos respectivos assuntos. Considere que cada assunto possui um número de questões conforme a tabela abaixo:\n\n| assunto | número de questões |\n|:---:|:---:|\n| Matemática | 24 |\n| Português | 18 |\n| Geografia | 8 |\n| Inglês | 8 |\n| História | 8 |\n| Física | 12 |\n| Química | 12 |\n\nUsando os comandos de operações com DataFrames que você aprendeu na Aula 03, calcule:\n\n1. (operações com escalar) Calcule o percentual de acerto dos alunos por assunto.  \n2. (operações entre *DataFrames) Calcule o total de acertos de cada aluno.  \n3. Calcule o porcentual geral de cada aluno.  \n4. Suponha que a nota de corte para a segunda fase seja 45. Quantos alunos tiveram nota maior que 45?  ",
      "metadata": {
        "id": "njUvbhQmC8-t"
      }
    },
    {
      "cell_type": "code",
      "source": "import pandas as pd\nimport numpy as np\n\nnp.random.seed(42)\ndf_mat = pd.DataFrame(np.random.randint(24, size=(100, 1)), columns=['Qt_acertos'])\n\ndf_por = pd.DataFrame(np.random.randint(18, size=(100, 1)), columns=['Qt_acertos'])\n\ndf_geo = pd.DataFrame(np.random.randint(8, size=(100, 1)), columns=['Qt_acertos'])\n\ndf_ing = pd.DataFrame(np.random.randint(8, size=(100, 1)), columns=['Qt_acertos'])\n\ndf_his = pd.DataFrame(np.random.randint(8, size=(100, 1)), columns=['Qt_acertos'])\n\ndf_fis = pd.DataFrame(np.random.randint(12, size=(100, 1)), columns=['Qt_acertos'])\n\ndf_qui = pd.DataFrame(np.random.randint(12, size=(100, 1)), columns=['Qt_acertos'])",
      "metadata": {
        "id": "Ll6TadxCC8-y",
        "trusted": true
      },
      "outputs": [],
      "execution_count": null
    },
    {
      "cell_type": "code",
      "source": "# 1) Seu código aqui\nimport pandas as pd\nimport numpy as np\n\nnp.random.seed(42)\ndf_mat = pd.DataFrame(np.random.randint(24, size=(100, 1)), columns=['Qt_acertos'])\n\ndf_por = pd.DataFrame(np.random.randint(18, size=(100, 1)), columns=['Qt_acertos'])\n\ndf_geo = pd.DataFrame(np.random.randint(8, size=(100, 1)), columns=['Qt_acertos'])\n\ndf_ing = pd.DataFrame(np.random.randint(8, size=(100, 1)), columns=['Qt_acertos'])\n\ndf_his = pd.DataFrame(np.random.randint(8, size=(100, 1)), columns=['Qt_acertos'])\n\ndf_fis = pd.DataFrame(np.random.randint(12, size=(100, 1)), columns=['Qt_acertos'])\n\ndf_qui = pd.DataFrame(np.random.randint(12, size=(100, 1)), columns=['Qt_acertos'])\n\ntotal_questoes = {\n    \"Matemática\": 24,\n    \"Português\": 18,\n    \"Geografia\": 8,\n    \"Inglês\": 8,\n    \"História\": 8,\n    \"Física\": 12,\n    \"Química\": 12\n}\n\ndf = pd.concat([\n    df_mat.rename(columns={\"Qt_acertos\": \"Matemática\"}),\n    df_por.rename(columns={\"Qt_acertos\": \"Português\"}),\n    df_geo.rename(columns={\"Qt_acertos\": \"Geografia\"}),\n    df_ing.rename(columns={\"Qt_acertos\": \"Inglês\"}),\n    df_his.rename(columns={\"Qt_acertos\": \"História\"}),\n    df_fis.rename(columns={\"Qt_acertos\": \"Física\"}),\n    df_qui.rename(columns={\"Qt_acertos\": \"Química\"})\n], axis=1)\n\ndf_pct = df.div(total_questoes) * 100\ndf_pct = df_pct.add_suffix(\" (%)\")\nprint (df_pct)\n",
      "metadata": {
        "id": "JVmLXiC2C8-0",
        "trusted": true
      },
      "outputs": [],
      "execution_count": null
    },
    {
      "cell_type": "code",
      "source": "# 2) Seu código aqui\ndf[\"Total_Acertos\"] = df.sum(axis=1)\nprint(df[\"Total_Acertos\"].head())",
      "metadata": {
        "id": "JbTwCyNHC8-1",
        "trusted": true
      },
      "outputs": [],
      "execution_count": null
    },
    {
      "cell_type": "code",
      "source": "# 3) Seu código aqui\ndf[\"Percentual_Geral (%)\"] = (df[\"Total_Acertos\"] / 90) * 100\nprint(df[\"Percentual_Geral (%)\"].head())",
      "metadata": {
        "id": "c2L8dJkVC8-3",
        "trusted": true
      },
      "outputs": [],
      "execution_count": null
    },
    {
      "cell_type": "code",
      "source": "# 4) Seu código aqui\nnum_alunos_acima_45 = (df[\"Total_Acertos\"] > 45).sum()\nprint(f\"Número de alunos acima de 45 acertos: {num_alunos_acima_45}\")",
      "metadata": {
        "id": "PZTZ7DFzC8-3",
        "trusted": true
      },
      "outputs": [],
      "execution_count": null
    },
    {
      "cell_type": "markdown",
      "source": "## 2) Vestibular II\n\nAinda sobre o mesmo banco de dados:\n\n1. Neste vestibular, quem 'zera' em matemática, física ou química está desqualificado. Monte um novo *DataFrame* com os alunos desqualificados por este critério.\n2. Quantos são esses alunos?\n3. Qual a média desses alunos em história e geografia?\n4. Monte um *DataFrame* com os alunos que passaram para a segunda fase. Repare que estes alunos não podem ter sido desqualificados.",
      "metadata": {
        "id": "Hlfl75XXC8-4"
      }
    },
    {
      "cell_type": "code",
      "source": "# seu código aqui\ndesqualificados = df[\n    (df[\"Matemática\"] == 0) | \n    (df[\"Física\"] == 0) | \n    (df[\"Química\"] == 0)\n].copy()\n\nnum_desqualificados = len(desqualificados)\n\nmedia_historia = desqualificados[\"História\"].mean()\nmedia_geografia = desqualificados[\"Geografia\"].mean()\n\naprovados = df[\n    (df[\"Total_Acertos\"] > 45) & \n    (~df.index.isin(desqualificados.index))\n]\n\n\nprint(f\"\\n2. Número de alunos desqualificados: {num_desqualificados}\")\nprint(f\"\\n3.  - Media História Reprovados: {media_historia:.2f}\")\nprint(f\"  - Media Geografia Reprovados: {media_geografia:.2f}\")\n\nprint(\"\\n4. Alunos aprovados para a segunda fase (primeiras 5 linhas):\")\nprint(aprovados.head())\n",
      "metadata": {
        "id": "hPaMGXvJC8-4",
        "trusted": true
      },
      "outputs": [],
      "execution_count": null
    },
    {
      "cell_type": "markdown",
      "source": "## 3) Vacinações no Acre\nVamos trabalhar agora com a base de vacinações no Acre. Para facilitar a sua vida, copiamos o link do arquivo na célula abaixo.\n\n1. Quantas vacinas estão registradas nessa base?  \n2. Quantos pacientes foram vacinados? (considere um paciente para cada valor único de ```paciente_id```)  \n3. Quantos pacientes únicos tomaram a primeira dose? OBS: Há um caractere especial neste campo. Receba os valores do campo com o método ```.unique()```.   \n4. Quantos pacientes com menos de 18 anos foram vacinados?  \n5. Quantos estabelecimentos aplicaram vacina no Acre?\n\n\n**OBS:** O portal do DATASUS pode apresentar instabilidades, retornando um erro na segunda célula abaixo. Por este motivo está disponível uma base estática, que se for baixada para o seu *working directory* pode ser lida com este comando: ```df = pd.read_csv('registros de vacinacao covid ACRE.csv', sep=';')```.\n\n**OBS2:** Para saber qual é o seu working directory, rode no jupyter: ```!pwd```.",
      "metadata": {
        "id": "EGBUWpAHC8-5"
      }
    },
    {
      "cell_type": "code",
      "source": "arquivo = 'https://s3.sa-east-1.amazonaws.com/ckan.saude.gov.br/SIPNI/COVID/uf/uf%3DAC/part-00000-5ed92752-6121-474f-ab37-816918134afc.c000.csv'",
      "metadata": {
        "id": "ET4r139hC8-5",
        "trusted": true
      },
      "outputs": [],
      "execution_count": null
    },
    {
      "cell_type": "code",
      "source": "# 1) Sua solução aqui\nimport pandas as pd\n\nf = pd.read_csv('nome_arquivo.csv', sep=';')\n\nq1 = len(df)\nprint(f\"1. Numero de Vacinas Registradas: {q1}\")",
      "metadata": {
        "id": "SC9YMWLSC8-6",
        "trusted": true
      },
      "outputs": [],
      "execution_count": null
    },
    {
      "cell_type": "code",
      "source": "# 2)\nq2 = df['paciente_id'].nunique()\nprint(f\"2. Numero de Pacientes Vacinados: {q2}\")\n",
      "metadata": {
        "id": "PMztY1RlC8-7",
        "trusted": true
      },
      "outputs": [],
      "execution_count": null
    },
    {
      "cell_type": "code",
      "source": "# 3)\nfirst_dose_values = df['vacina_descricao_dose'].unique()\nq3 = df[df['vacina_descricao_dose'].str.contains('1ª Dose', na=False)]['paciente_id'].nunique()\nprint(f\"3. Primeira Dose: {q3}\")\n",
      "metadata": {
        "id": "V_wr--3JC8-7",
        "trusted": true
      },
      "outputs": [],
      "execution_count": null
    },
    {
      "cell_type": "code",
      "source": "# 3) solução alternativa\n",
      "metadata": {
        "id": "SPHgIxtcC8-7",
        "trusted": true
      },
      "outputs": [],
      "execution_count": null
    },
    {
      "cell_type": "code",
      "source": "# 4)\nq4 = df[df['paciente_idade'] < 18]['paciente_id'].nunique()\nprint(f\"4. Abaixo 18: {q4}\")\n",
      "metadata": {
        "id": "S6ab9ExEC8-7",
        "trusted": true
      },
      "outputs": [],
      "execution_count": null
    },
    {
      "cell_type": "code",
      "source": "# 5)\nq5 = df['estabelecimento_razaoSocial'].nunique()\nprint(f\"5. Estabelecimentos Acre: {q5}\")",
      "metadata": {
        "id": "PVrY_-qlC8-8",
        "trusted": true
      },
      "outputs": [],
      "execution_count": null
    },
    {
      "cell_type": "markdown",
      "source": "## 4) Vacinação II\nGere um *DataFrame* que contenha somente os estabelecimentos que aplicaram vcinas a menores de 18 anos. Nesse *DataFrame* devem conter somente os dados dos estabelecimentos, mais uma coluna sendo a quantidade de vacinas que o estabelecimento aplicou a menores de 18 anos.  \n  \n1. crie uma cópia do *DataFrame* original, contendo somente os registros de vacinas realizadas a menores de 18 anos.  \n2. crie uma lista das colunas desse *DataFrame* com o atributo de *DataFrame* **.columns()**  \n3. Nesse *DataFrame* faça uma contagem do campo ```vacina_categoria_nome```.\n3. a partir da lista de colunas, escolha somente aquelas que são referentes ao estabelecimento, faça uma lista com esses valores.  \n4. usando o método *.loc*, selecione somente essas variáveis  \n5. Aplique o método **.drop_duplicates** e crie uma lista com uma linha para cada estabelecimento, com os dados do estabelecimento  ",
      "metadata": {
        "id": "LH1LSYvGC8-8"
      }
    },
    {
      "cell_type": "code",
      "source": "# 1)\n",
      "metadata": {
        "id": "3ojs12vUC8-8",
        "trusted": true
      },
      "outputs": [],
      "execution_count": null
    },
    {
      "cell_type": "code",
      "source": "# 2)\n",
      "metadata": {
        "id": "sLyevPRBC8-8",
        "trusted": true
      },
      "outputs": [],
      "execution_count": null
    },
    {
      "cell_type": "code",
      "source": "# 3)\n",
      "metadata": {
        "id": "lZAW-Dp8C8-8",
        "trusted": true
      },
      "outputs": [],
      "execution_count": null
    },
    {
      "cell_type": "code",
      "source": "# 4)\n",
      "metadata": {
        "id": "xxYsxrxAC8-8",
        "trusted": true
      },
      "outputs": [],
      "execution_count": null
    },
    {
      "cell_type": "code",
      "source": "# 5)\n",
      "metadata": {
        "id": "vaX2x_0rC8-8",
        "trusted": true
      },
      "outputs": [],
      "execution_count": null
    }
  ]
}